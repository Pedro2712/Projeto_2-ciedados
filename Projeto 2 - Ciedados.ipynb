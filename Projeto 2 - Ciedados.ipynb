{
 "cells": [
  {
   "cell_type": "markdown",
   "metadata": {},
   "source": [
    "# Projeto 2 - Ciência dos dados\n",
    "\n",
    "#### Nomes: Pedro Henrique Britto Aragão Andrade, Letícia Teles Machado, Thiago Shiguero Kawahara"
   ]
  },
  {
   "cell_type": "code",
   "execution_count": 25,
   "metadata": {},
   "outputs": [],
   "source": [
    "# Pergunta: A partir de determinadas informações, prever se um chocolate recebe um rating de 3.5 para cima ou não"
   ]
  },
  {
   "cell_type": "code",
   "execution_count": 26,
   "metadata": {},
   "outputs": [],
   "source": [
    "# Importando as bibliotecas\n",
    "\n",
    "import pandas as pd\n",
    "import matplotlib.pyplot as plt\n",
    "import numpy as np\n",
    "\n",
    "import warnings\n",
    "warnings.filterwarnings('ignore')"
   ]
  },
  {
   "cell_type": "code",
   "execution_count": 27,
   "metadata": {
    "scrolled": true
   },
   "outputs": [
    {
     "data": {
      "text/html": [
       "<div>\n",
       "<style scoped>\n",
       "    .dataframe tbody tr th:only-of-type {\n",
       "        vertical-align: middle;\n",
       "    }\n",
       "\n",
       "    .dataframe tbody tr th {\n",
       "        vertical-align: top;\n",
       "    }\n",
       "\n",
       "    .dataframe thead th {\n",
       "        text-align: right;\n",
       "    }\n",
       "</style>\n",
       "<table border=\"1\" class=\"dataframe\">\n",
       "  <thead>\n",
       "    <tr style=\"text-align: right;\">\n",
       "      <th></th>\n",
       "      <th>Unnamed: 0</th>\n",
       "      <th>ref</th>\n",
       "      <th>company</th>\n",
       "      <th>company_location</th>\n",
       "      <th>review_date</th>\n",
       "      <th>country_of_bean_origin</th>\n",
       "      <th>specific_bean_origin_or_bar_name</th>\n",
       "      <th>cocoa_percent</th>\n",
       "      <th>rating</th>\n",
       "      <th>counts_of_ingredients</th>\n",
       "      <th>...</th>\n",
       "      <th>cocoa_butter</th>\n",
       "      <th>vanilla</th>\n",
       "      <th>lecithin</th>\n",
       "      <th>salt</th>\n",
       "      <th>sugar</th>\n",
       "      <th>sweetener_without_sugar</th>\n",
       "      <th>first_taste</th>\n",
       "      <th>second_taste</th>\n",
       "      <th>third_taste</th>\n",
       "      <th>fourth_taste</th>\n",
       "    </tr>\n",
       "  </thead>\n",
       "  <tbody>\n",
       "    <tr>\n",
       "      <th>0</th>\n",
       "      <td>0</td>\n",
       "      <td>2454</td>\n",
       "      <td>5150</td>\n",
       "      <td>U.S.A</td>\n",
       "      <td>2019</td>\n",
       "      <td>Madagascar</td>\n",
       "      <td>Bejofo Estate, batch 1</td>\n",
       "      <td>76.0</td>\n",
       "      <td>3.75</td>\n",
       "      <td>3</td>\n",
       "      <td>...</td>\n",
       "      <td>have_cocoa_butter</td>\n",
       "      <td>have_not_vanila</td>\n",
       "      <td>have_not_lecithin</td>\n",
       "      <td>have_not_salt</td>\n",
       "      <td>have_sugar</td>\n",
       "      <td>have_not_sweetener_without_sugar</td>\n",
       "      <td>cocoa</td>\n",
       "      <td>blackberry</td>\n",
       "      <td>full body</td>\n",
       "      <td>NaN</td>\n",
       "    </tr>\n",
       "    <tr>\n",
       "      <th>1</th>\n",
       "      <td>1</td>\n",
       "      <td>2458</td>\n",
       "      <td>5150</td>\n",
       "      <td>U.S.A</td>\n",
       "      <td>2019</td>\n",
       "      <td>Dominican republic</td>\n",
       "      <td>Zorzal, batch 1</td>\n",
       "      <td>76.0</td>\n",
       "      <td>3.50</td>\n",
       "      <td>3</td>\n",
       "      <td>...</td>\n",
       "      <td>have_cocoa_butter</td>\n",
       "      <td>have_not_vanila</td>\n",
       "      <td>have_not_lecithin</td>\n",
       "      <td>have_not_salt</td>\n",
       "      <td>have_sugar</td>\n",
       "      <td>have_not_sweetener_without_sugar</td>\n",
       "      <td>cocoa</td>\n",
       "      <td>vegetal</td>\n",
       "      <td>savory</td>\n",
       "      <td>NaN</td>\n",
       "    </tr>\n",
       "    <tr>\n",
       "      <th>2</th>\n",
       "      <td>2</td>\n",
       "      <td>2454</td>\n",
       "      <td>5150</td>\n",
       "      <td>U.S.A</td>\n",
       "      <td>2019</td>\n",
       "      <td>Tanzania</td>\n",
       "      <td>Kokoa Kamili, batch 1</td>\n",
       "      <td>76.0</td>\n",
       "      <td>3.25</td>\n",
       "      <td>3</td>\n",
       "      <td>...</td>\n",
       "      <td>have_cocoa_butter</td>\n",
       "      <td>have_not_vanila</td>\n",
       "      <td>have_not_lecithin</td>\n",
       "      <td>have_not_salt</td>\n",
       "      <td>have_sugar</td>\n",
       "      <td>have_not_sweetener_without_sugar</td>\n",
       "      <td>rich cocoa</td>\n",
       "      <td>fatty</td>\n",
       "      <td>bready</td>\n",
       "      <td>NaN</td>\n",
       "    </tr>\n",
       "    <tr>\n",
       "      <th>3</th>\n",
       "      <td>3</td>\n",
       "      <td>797</td>\n",
       "      <td>A. Morin</td>\n",
       "      <td>France</td>\n",
       "      <td>2012</td>\n",
       "      <td>Peru</td>\n",
       "      <td>Peru</td>\n",
       "      <td>63.0</td>\n",
       "      <td>3.75</td>\n",
       "      <td>4</td>\n",
       "      <td>...</td>\n",
       "      <td>have_cocoa_butter</td>\n",
       "      <td>have_not_vanila</td>\n",
       "      <td>have_lecithin</td>\n",
       "      <td>have_not_salt</td>\n",
       "      <td>have_sugar</td>\n",
       "      <td>have_not_sweetener_without_sugar</td>\n",
       "      <td>fruity</td>\n",
       "      <td>melon</td>\n",
       "      <td>roasty</td>\n",
       "      <td>NaN</td>\n",
       "    </tr>\n",
       "    <tr>\n",
       "      <th>4</th>\n",
       "      <td>4</td>\n",
       "      <td>797</td>\n",
       "      <td>A. Morin</td>\n",
       "      <td>France</td>\n",
       "      <td>2012</td>\n",
       "      <td>Bolivia</td>\n",
       "      <td>Bolivia</td>\n",
       "      <td>70.0</td>\n",
       "      <td>3.50</td>\n",
       "      <td>4</td>\n",
       "      <td>...</td>\n",
       "      <td>have_cocoa_butter</td>\n",
       "      <td>have_not_vanila</td>\n",
       "      <td>have_lecithin</td>\n",
       "      <td>have_not_salt</td>\n",
       "      <td>have_sugar</td>\n",
       "      <td>have_not_sweetener_without_sugar</td>\n",
       "      <td>vegetal</td>\n",
       "      <td>nutty</td>\n",
       "      <td>NaN</td>\n",
       "      <td>NaN</td>\n",
       "    </tr>\n",
       "    <tr>\n",
       "      <th>...</th>\n",
       "      <td>...</td>\n",
       "      <td>...</td>\n",
       "      <td>...</td>\n",
       "      <td>...</td>\n",
       "      <td>...</td>\n",
       "      <td>...</td>\n",
       "      <td>...</td>\n",
       "      <td>...</td>\n",
       "      <td>...</td>\n",
       "      <td>...</td>\n",
       "      <td>...</td>\n",
       "      <td>...</td>\n",
       "      <td>...</td>\n",
       "      <td>...</td>\n",
       "      <td>...</td>\n",
       "      <td>...</td>\n",
       "      <td>...</td>\n",
       "      <td>...</td>\n",
       "      <td>...</td>\n",
       "      <td>...</td>\n",
       "      <td>...</td>\n",
       "    </tr>\n",
       "    <tr>\n",
       "      <th>2219</th>\n",
       "      <td>2219</td>\n",
       "      <td>1205</td>\n",
       "      <td>Zotter</td>\n",
       "      <td>Austria</td>\n",
       "      <td>2014</td>\n",
       "      <td>Blend</td>\n",
       "      <td>Raw</td>\n",
       "      <td>80.0</td>\n",
       "      <td>2.75</td>\n",
       "      <td>4</td>\n",
       "      <td>...</td>\n",
       "      <td>have_cocoa_butter</td>\n",
       "      <td>have_not_vanila</td>\n",
       "      <td>have_not_lecithin</td>\n",
       "      <td>have_salt</td>\n",
       "      <td>have_not_sugar</td>\n",
       "      <td>have_sweetener_without_sugar</td>\n",
       "      <td>waxy</td>\n",
       "      <td>cloying</td>\n",
       "      <td>vegetal</td>\n",
       "      <td>NaN</td>\n",
       "    </tr>\n",
       "    <tr>\n",
       "      <th>2220</th>\n",
       "      <td>2220</td>\n",
       "      <td>1996</td>\n",
       "      <td>Zotter</td>\n",
       "      <td>Austria</td>\n",
       "      <td>2017</td>\n",
       "      <td>Colombia</td>\n",
       "      <td>APROCAFA, Acandi</td>\n",
       "      <td>75.0</td>\n",
       "      <td>3.75</td>\n",
       "      <td>3</td>\n",
       "      <td>...</td>\n",
       "      <td>have_cocoa_butter</td>\n",
       "      <td>have_not_vanila</td>\n",
       "      <td>have_not_lecithin</td>\n",
       "      <td>have_not_salt</td>\n",
       "      <td>have_sugar</td>\n",
       "      <td>have_not_sweetener_without_sugar</td>\n",
       "      <td>strong nutty</td>\n",
       "      <td>marshmallow</td>\n",
       "      <td>NaN</td>\n",
       "      <td>NaN</td>\n",
       "    </tr>\n",
       "    <tr>\n",
       "      <th>2221</th>\n",
       "      <td>2221</td>\n",
       "      <td>2170</td>\n",
       "      <td>Zotter</td>\n",
       "      <td>Austria</td>\n",
       "      <td>2018</td>\n",
       "      <td>Belize</td>\n",
       "      <td>Maya Mtn</td>\n",
       "      <td>72.0</td>\n",
       "      <td>3.50</td>\n",
       "      <td>3</td>\n",
       "      <td>...</td>\n",
       "      <td>have_cocoa_butter</td>\n",
       "      <td>have_not_vanila</td>\n",
       "      <td>have_not_lecithin</td>\n",
       "      <td>have_not_salt</td>\n",
       "      <td>have_sugar</td>\n",
       "      <td>have_not_sweetener_without_sugar</td>\n",
       "      <td>muted</td>\n",
       "      <td>roasty</td>\n",
       "      <td>accessible</td>\n",
       "      <td>NaN</td>\n",
       "    </tr>\n",
       "    <tr>\n",
       "      <th>2222</th>\n",
       "      <td>2222</td>\n",
       "      <td>2170</td>\n",
       "      <td>Zotter</td>\n",
       "      <td>Austria</td>\n",
       "      <td>2018</td>\n",
       "      <td>Congo</td>\n",
       "      <td>Mountains of the Moon</td>\n",
       "      <td>70.0</td>\n",
       "      <td>3.25</td>\n",
       "      <td>3</td>\n",
       "      <td>...</td>\n",
       "      <td>have_cocoa_butter</td>\n",
       "      <td>have_not_vanila</td>\n",
       "      <td>have_not_lecithin</td>\n",
       "      <td>have_not_salt</td>\n",
       "      <td>have_sugar</td>\n",
       "      <td>have_not_sweetener_without_sugar</td>\n",
       "      <td>fatty</td>\n",
       "      <td>mild nuts</td>\n",
       "      <td>mild fruit</td>\n",
       "      <td>NaN</td>\n",
       "    </tr>\n",
       "    <tr>\n",
       "      <th>2223</th>\n",
       "      <td>2223</td>\n",
       "      <td>2036</td>\n",
       "      <td>Zotter</td>\n",
       "      <td>Austria</td>\n",
       "      <td>2018</td>\n",
       "      <td>Blend</td>\n",
       "      <td>Dry Aged, 30 yr Anniversary bar</td>\n",
       "      <td>75.0</td>\n",
       "      <td>3.00</td>\n",
       "      <td>3</td>\n",
       "      <td>...</td>\n",
       "      <td>have_cocoa_butter</td>\n",
       "      <td>have_not_vanila</td>\n",
       "      <td>have_not_lecithin</td>\n",
       "      <td>have_not_salt</td>\n",
       "      <td>have_sugar</td>\n",
       "      <td>have_not_sweetener_without_sugar</td>\n",
       "      <td>fatty</td>\n",
       "      <td>earthy</td>\n",
       "      <td>cocoa</td>\n",
       "      <td>NaN</td>\n",
       "    </tr>\n",
       "  </tbody>\n",
       "</table>\n",
       "<p>2224 rows × 21 columns</p>\n",
       "</div>"
      ],
      "text/plain": [
       "      Unnamed: 0   ref   company company_location  review_date  \\\n",
       "0              0  2454      5150            U.S.A         2019   \n",
       "1              1  2458      5150            U.S.A         2019   \n",
       "2              2  2454      5150            U.S.A         2019   \n",
       "3              3   797  A. Morin           France         2012   \n",
       "4              4   797  A. Morin           France         2012   \n",
       "...          ...   ...       ...              ...          ...   \n",
       "2219        2219  1205    Zotter          Austria         2014   \n",
       "2220        2220  1996    Zotter          Austria         2017   \n",
       "2221        2221  2170    Zotter          Austria         2018   \n",
       "2222        2222  2170    Zotter          Austria         2018   \n",
       "2223        2223  2036    Zotter          Austria         2018   \n",
       "\n",
       "     country_of_bean_origin specific_bean_origin_or_bar_name  cocoa_percent  \\\n",
       "0                Madagascar           Bejofo Estate, batch 1           76.0   \n",
       "1        Dominican republic                  Zorzal, batch 1           76.0   \n",
       "2                  Tanzania            Kokoa Kamili, batch 1           76.0   \n",
       "3                      Peru                             Peru           63.0   \n",
       "4                   Bolivia                          Bolivia           70.0   \n",
       "...                     ...                              ...            ...   \n",
       "2219                  Blend                              Raw           80.0   \n",
       "2220               Colombia                 APROCAFA, Acandi           75.0   \n",
       "2221                 Belize                         Maya Mtn           72.0   \n",
       "2222                  Congo            Mountains of the Moon           70.0   \n",
       "2223                  Blend  Dry Aged, 30 yr Anniversary bar           75.0   \n",
       "\n",
       "      rating  counts_of_ingredients  ...       cocoa_butter          vanilla  \\\n",
       "0       3.75                      3  ...  have_cocoa_butter  have_not_vanila   \n",
       "1       3.50                      3  ...  have_cocoa_butter  have_not_vanila   \n",
       "2       3.25                      3  ...  have_cocoa_butter  have_not_vanila   \n",
       "3       3.75                      4  ...  have_cocoa_butter  have_not_vanila   \n",
       "4       3.50                      4  ...  have_cocoa_butter  have_not_vanila   \n",
       "...      ...                    ...  ...                ...              ...   \n",
       "2219    2.75                      4  ...  have_cocoa_butter  have_not_vanila   \n",
       "2220    3.75                      3  ...  have_cocoa_butter  have_not_vanila   \n",
       "2221    3.50                      3  ...  have_cocoa_butter  have_not_vanila   \n",
       "2222    3.25                      3  ...  have_cocoa_butter  have_not_vanila   \n",
       "2223    3.00                      3  ...  have_cocoa_butter  have_not_vanila   \n",
       "\n",
       "               lecithin           salt           sugar  \\\n",
       "0     have_not_lecithin  have_not_salt      have_sugar   \n",
       "1     have_not_lecithin  have_not_salt      have_sugar   \n",
       "2     have_not_lecithin  have_not_salt      have_sugar   \n",
       "3         have_lecithin  have_not_salt      have_sugar   \n",
       "4         have_lecithin  have_not_salt      have_sugar   \n",
       "...                 ...            ...             ...   \n",
       "2219  have_not_lecithin      have_salt  have_not_sugar   \n",
       "2220  have_not_lecithin  have_not_salt      have_sugar   \n",
       "2221  have_not_lecithin  have_not_salt      have_sugar   \n",
       "2222  have_not_lecithin  have_not_salt      have_sugar   \n",
       "2223  have_not_lecithin  have_not_salt      have_sugar   \n",
       "\n",
       "               sweetener_without_sugar   first_taste second_taste third_taste  \\\n",
       "0     have_not_sweetener_without_sugar         cocoa   blackberry   full body   \n",
       "1     have_not_sweetener_without_sugar         cocoa      vegetal      savory   \n",
       "2     have_not_sweetener_without_sugar    rich cocoa        fatty      bready   \n",
       "3     have_not_sweetener_without_sugar        fruity        melon      roasty   \n",
       "4     have_not_sweetener_without_sugar       vegetal        nutty         NaN   \n",
       "...                                ...           ...          ...         ...   \n",
       "2219      have_sweetener_without_sugar          waxy      cloying     vegetal   \n",
       "2220  have_not_sweetener_without_sugar  strong nutty  marshmallow         NaN   \n",
       "2221  have_not_sweetener_without_sugar         muted       roasty  accessible   \n",
       "2222  have_not_sweetener_without_sugar         fatty    mild nuts  mild fruit   \n",
       "2223  have_not_sweetener_without_sugar         fatty       earthy       cocoa   \n",
       "\n",
       "     fourth_taste  \n",
       "0             NaN  \n",
       "1             NaN  \n",
       "2             NaN  \n",
       "3             NaN  \n",
       "4             NaN  \n",
       "...           ...  \n",
       "2219          NaN  \n",
       "2220          NaN  \n",
       "2221          NaN  \n",
       "2222          NaN  \n",
       "2223          NaN  \n",
       "\n",
       "[2224 rows x 21 columns]"
      ]
     },
     "execution_count": 27,
     "metadata": {},
     "output_type": "execute_result"
    }
   ],
   "source": [
    "# Abrindo o dataset\n",
    "\n",
    "dados_cru= pd.read_csv(\"chocolate.csv\")\n",
    "dados_cru"
   ]
  },
  {
   "cell_type": "code",
   "execution_count": 28,
   "metadata": {},
   "outputs": [
    {
     "data": {
      "text/plain": [
       "Unnamed: 0                             0\n",
       "ref                                    0\n",
       "company                                0\n",
       "company_location                       0\n",
       "review_date                            0\n",
       "country_of_bean_origin                 0\n",
       "specific_bean_origin_or_bar_name       0\n",
       "cocoa_percent                          0\n",
       "rating                                 0\n",
       "counts_of_ingredients                  0\n",
       "beans                                  0\n",
       "cocoa_butter                           0\n",
       "vanilla                                0\n",
       "lecithin                               0\n",
       "salt                                   0\n",
       "sugar                                  0\n",
       "sweetener_without_sugar                0\n",
       "first_taste                            0\n",
       "second_taste                          77\n",
       "third_taste                          620\n",
       "fourth_taste                        1982\n",
       "dtype: int64"
      ]
     },
     "execution_count": 28,
     "metadata": {},
     "output_type": "execute_result"
    }
   ],
   "source": [
    "# Faz a contagem de células vazias de cada coluna\n",
    "\n",
    "dados_cru.isnull().sum()"
   ]
  },
  {
   "cell_type": "code",
   "execution_count": 29,
   "metadata": {
    "scrolled": false
   },
   "outputs": [],
   "source": [
    "# Há informações irrelevantes para o nosso tema no dataset, por isso as retiramos.\n",
    "\n",
    "# Filtrando as colunas\n",
    "\n",
    "dados= dados_cru.iloc[:, [8, 5, 7, 3, 9, 11, 12, 13, 17]]"
   ]
  },
  {
   "cell_type": "code",
   "execution_count": 30,
   "metadata": {
    "scrolled": false
   },
   "outputs": [],
   "source": [
    "# Ajeitando a coluna rating para o nosso interesse\n",
    "\n",
    "dados.loc[dados.rating<3.5, \"rating\"]= 0\n",
    "dados.loc[dados.rating>=3.5, \"rating\"]= 1"
   ]
  },
  {
   "cell_type": "code",
   "execution_count": 31,
   "metadata": {},
   "outputs": [],
   "source": [
    "# Traduzindo o dataset para o português.\n",
    "\n",
    "# Renomeando as colunas\n",
    "\n",
    "dados= dados.rename(columns= {\"company\": \"cia\", \"company_location\": \"local_cia\", \"country_of_bean_origin\": \"país_grão\",\n",
    "                      \"cocoa_percent\": \"%cacau\", \"counts_of_ingredients\": \"num_ingr\", \"cocoa_butter\": \"manteiga_cacau\",\n",
    "                      \"vanilla\": \"baunilha\", \"lecithin\": \"lecitina\", \"first_taste\": \"1_sabor\", \"second_taste\": \"2_sabor\"})"
   ]
  },
  {
   "cell_type": "code",
   "execution_count": 32,
   "metadata": {},
   "outputs": [
    {
     "data": {
      "text/plain": [
       "U.S.A                    948\n",
       "France                   167\n",
       "Canada                   158\n",
       "U.k.                     117\n",
       "Italy                     67\n",
       "                        ... \n",
       "Martinique                 1\n",
       "Wales                      1\n",
       "Suriname                   1\n",
       "Ghana                      1\n",
       "St.vincent-grenadines      1\n",
       "Name: local_cia, Length: 66, dtype: int64"
      ]
     },
     "execution_count": 32,
     "metadata": {},
     "output_type": "execute_result"
    }
   ],
   "source": [
    "# local_cia\n",
    "\n",
    "dados.local_cia.value_counts()"
   ]
  },
  {
   "cell_type": "code",
   "execution_count": 33,
   "metadata": {
    "scrolled": true
   },
   "outputs": [],
   "source": [
    "# Pelo value_counts percebemos que há uma grande discrêpancia de quantidade de chocolates dos U.S.A. e do resto do mundo e\n",
    "# também existe uma larga variedade de países, com 66 no total.\n",
    "# Portanto classificamos a coluna local_cia em ser U.S.A. ou não.\n",
    "\n",
    "dados.loc[dados.local_cia!= \"U.S.A\", \"local_cia\"]= 0\n",
    "dados.loc[dados.local_cia== \"U.S.A\", \"local_cia\"]= 1"
   ]
  },
  {
   "cell_type": "code",
   "execution_count": 34,
   "metadata": {
    "scrolled": true
   },
   "outputs": [
    {
     "data": {
      "text/plain": [
       "Venezuela             238\n",
       "Peru                  207\n",
       "Dominican republic    200\n",
       "Ecuador               194\n",
       "Madagascar            157\n",
       "Blend                 140\n",
       "Nicaragua              92\n",
       "Brazil                 74\n",
       "Bolivia                71\n",
       "Belize                 65\n",
       "Name: país_grão, dtype: int64"
      ]
     },
     "execution_count": 34,
     "metadata": {},
     "output_type": "execute_result"
    }
   ],
   "source": [
    "# país_grão\n",
    "\n",
    "dados.país_grão.value_counts().head(10)"
   ]
  },
  {
   "cell_type": "code",
   "execution_count": 35,
   "metadata": {
    "scrolled": true
   },
   "outputs": [],
   "source": [
    "# Pelo value_counts percebemos que há uma grande concentração de grãos originários dos países da América Latina, então \n",
    "# categorizamos a coluna em pertencente a América Latina ou não.\n",
    "\n",
    "# dicionario para categorizar os países dos grãos em pertencentes da América Latina ou não\n",
    "\n",
    "dicio2= {\n",
    "    \n",
    "    0: ['Madagascar','Dominican republic','Tanzania','Papua new guinea','Burma','Togo','Sao tome','Fiji','Vanuatu','Indonesia',\n",
    "        'Trinidad','Vietnam','Ghana','Blend','Grenada','Jamaica','India','Congo','Philippines','Solomon islands','Uganda',\n",
    "        'Malaysia','Sri lanka','Ivory coast','Gabon','Taiwan','St. lucia','Australia','Liberia','Sierra leone','Nigeria',\n",
    "        'U.s.a.','St.vincent-grenadines','Thailand','Tobago','Sumatra','Cameroon','Samoa','Sao tome & principe','Principe',\n",
    "        'Sulawesi','Dr congo'],\n",
    "    \n",
    "    1: ['Peru','Bolivia','Venezuela','Ecuador','Brazil','Panama','Colombia','Cuba','Mexico','Nicaragua','Belize','Guatemala',\n",
    "         'Costa rica','Honduras','Haiti','Puerto rico','Martinique','Bolvia','El salvador','Suriname']\n",
    "}\n",
    "\n",
    "# Substituindo os países dos grãos pelas suas categorias\n",
    "\n",
    "for i in list(dados[\"país_grão\"]):\n",
    "    if i in dicio2[1]:\n",
    "        dados.loc[dados[\"país_grão\"]==i,\"país_grão\"]= 1\n",
    "    elif i in dicio2[0]:\n",
    "        dados.loc[dados[\"país_grão\"]==i,\"país_grão\"]= 0"
   ]
  },
  {
   "cell_type": "code",
   "execution_count": 36,
   "metadata": {
    "scrolled": true
   },
   "outputs": [
    {
     "data": {
      "image/png": "[encoded data removed]",
      "text/plain": [
       "<Figure size 432x288 with 1 Axes>"
      ]
     },
     "metadata": {
      "needs_background": "light"
     },
     "output_type": "display_data"
    }
   ],
   "source": [
    "# %cacau\n",
    "\n",
    "plt.hist(dados[\"%cacau\"], bins=15, density=True, edgecolor= \"white\")\n",
    "plt.title(\"Distribuição da % de cacau nos chocolates\")\n",
    "plt.ylabel(\"Densidade\")\n",
    "plt.xlabel(\"% de cacau\");"
   ]
  },
  {
   "cell_type": "code",
   "execution_count": 37,
   "metadata": {
    "scrolled": true
   },
   "outputs": [],
   "source": [
    "# Pelo histograma percebesse que há uma grande concentração de chocolates com 70% de cacau, então categorizamos a coluna\n",
    "# %cacau em porcentagem de cacau igual a 70 ou não.\n",
    "\n",
    "dados.loc[dados[\"%cacau\"]!= 70, \"%cacau\"]= 0\n",
    "dados.loc[dados[\"%cacau\"]== 70, \"%cacau\"]= 1"
   ]
  },
  {
   "cell_type": "code",
   "execution_count": 38,
   "metadata": {},
   "outputs": [],
   "source": [
    "# Renomeando as linhas de manteiga_cacau, baunilha, lecitina\n",
    "\n",
    "dados.loc[dados.manteiga_cacau== \"have_cocoa_butter\", \"manteiga_cacau\"]= 1\n",
    "dados.loc[dados.manteiga_cacau== \"have_not_cocoa_butter\", \"manteiga_cacau\"]= 0\n",
    "\n",
    "dados.loc[dados.baunilha== \"have_not_vanila\", \"baunilha\"]= 0\n",
    "dados.loc[dados.baunilha== \"have_vanila\", \"baunilha\"]= 1\n",
    "\n",
    "dados.loc[dados.lecitina== \"have_not_lecithin\", \"lecitina\"]= 0\n",
    "dados.loc[dados.lecitina== \"have_lecithin\", \"lecitina\"]= 1"
   ]
  },
  {
   "cell_type": "code",
   "execution_count": 39,
   "metadata": {
    "scrolled": false
   },
   "outputs": [
    {
     "data": {
      "text/plain": [
       "creamy                   160\n",
       "sandy                    128\n",
       "intense                   81\n",
       "nutty                     76\n",
       "fatty                     74\n",
       "                        ... \n",
       "black current              1\n",
       "full flavor spectrum       1\n",
       "ligt color                 1\n",
       "subtle but refreshing      1\n",
       "palm                       1\n",
       "Name: 1_sabor, Length: 456, dtype: int64"
      ]
     },
     "execution_count": 39,
     "metadata": {},
     "output_type": "execute_result"
    }
   ],
   "source": [
    "# 1_sabor\n",
    "\n",
    "dados[\"1_sabor\"].value_counts()"
   ]
  },
  {
   "cell_type": "code",
   "execution_count": 40,
   "metadata": {},
   "outputs": [],
   "source": [
    "# Pelo value_counts percebemos que não há uma grande concentração em apenas alguns sabores e que existe uma grande variedade\n",
    "# de sabores (456 no total).\n",
    "# Portanto categorizamos os sabores em doce, amargo, salgado, acido, arenoso, gorduroso e complexo.\n",
    "\n",
    "# dicionario para categorizar os primeiros sabores\n",
    "\n",
    "dicio = {\n",
    "    \n",
    " 'doce': ['fruity','sweet','mild fruit','brief fruit note','yellow fruit','hot cocoa','strawberry','red wine','creamy',\n",
    "          'fruity with coffee notes','vanilla','very sweet','floral','dark berry','cashew','subtle','dried fruit','smooth',\n",
    "          'melon','marshmallow','strawberries','grapes','bland','raspberry','strong vanilla','caramel','intense floral','gummy',\n",
    "          'cinamon and nutmeg','mocha','intense marshmallow','chocolate covered cherries','red berry','sweet grass','mellow',\n",
    "          'bright fruit','ripe grapes','dairy','perfume','overly sweet','sugar dominates','mild','berry','true to sugar',\n",
    "          'banana','deep cherry','licorice','cherry','brownie','sweet spice','raisins','mild cherry','cinamon','intense fruit',\n",
    "          'mild fruit and spice','tropical berry','blackberry','dark forest berry','caramel and cocoa','candy like off flavor',\n",
    "          'blackberry and cinnamon','ultra fruity','brownine','fruit','prominent plum note','malitol','plums','coconut','fig',\n",
    "          'honey','choco covered strawberry','tea','chocolate covered banana','blackberries','strong fruit','red fruit',\n",
    "          'mild strawberry','sweet edge','sl. sweet','light perfume','overyly sweet','strong floral','too sweet','mild caramel',\n",
    "          'candy','candy like','candy-like','mild vanilla and mild fruit','strong raspberry','spoiled milk',\n",
    "          'intense mocha flavor','raisiny','intense vanilla','grape','grapefruit','tropical fruit and mild smoke',\n",
    "          'candy spices','wine','cocounut','Fruity','notes from sugar','intense grapes','peanut butter','maple','rubbery',\n",
    "          'simple red berry','berry notes with sweet edge','bright red fruit','fudgey','intense plum','refined','Easter candy',\n",
    "          'rich brownie','intense fruity','bold cherry','light brown','ligt color','apple','subtle red berry','cranberries',\n",
    "          'pronounced berry','robust dark tropical fruit','dried fig','berries','pronounced fruit','roasted strawberry',\n",
    "          'intense sweet','yogurt','mellow fruit','intense prune and berry'],\n",
    " \n",
    " 'amargo': ['cocoa','rich cocoa','mild tobacco','burnt rubber','burnt wood','cocoa and powerful tang','gritty','woody','rich',\n",
    "            'high roast','smokey','coffee','light roast','bitter','appealing smoke','smoke','burn butterscotch','sl. bitter',\n",
    "            'leather','base cocoa','tobacco','dark cocoa','bitter then nutty rustic','mild bitter','heavy roast','mild smoke',\n",
    "            'base cocoa w/ palm notes','over roasted','assertive','high astringent','mild cocoa','deep cocoa','burnt coffee',\n",
    "            'burnt up front','med roast','dark roast','bold','basic cocoa','woodsy','coffee and cocoa','cocoa flavor dominates',\n",
    "            'wood','dark woody','dark coffee','burnt honey','late cocoa','intense cocoa','low refinement',\n",
    "            'dominated by heavy roast','slightly burnt','mild smoke and fruit','cocoa and fresh grapes','mildly burnt caramel',\n",
    "            'strong cocoa','black current','cocoa and coconut','mild woody','mildly rich','XL nibs','rich chocolate',\n",
    "            'harsh flavor','ashey','full bodied','slight burnt','harsh burnt','strong','watered down coffee','roasty/smokey',\n",
    "            'bitter coffee flavor','rough','overly intense','strong base cocoa','intensely smokey','burnt caramel',\n",
    "            'mild smokey','intense smoke','smoke dominates','large nibs','deep','cocoa base','fresh nibs',\n",
    "            'strong smokey tobacco','full cocoa flavor','cigar','mild cacao and fruit notes','black tea','basic chocolate',\n",
    "            'burnt black licorice','dark color','pure','roasty cocoa','slight bitter','nutty and bitter dominate',\n",
    "            'cocoa dominates','rich base cocoa','heavy smoke','toffee','hint of smoke'],\n",
    " \n",
    " 'salgado': ['vegetal','green','nutty','roasty','herbal','hay','cardboard','nut','slight roasty','nuts','herbs','ham-like',\n",
    "             'nutmeg','roasted nuts','bready','strong nutty with off notes','raw','banana nut','cucumber','carrots','hazelnut',\n",
    "             'grits','large grits','few grits','olive','intense olive','baked bread','cheesy off flavor','mild nutty','palm',\n",
    "             'cardamon','peanut','medium roast','anise','mild hammy','musty','vegetable and honey','grass','mildy nutty',\n",
    "             'burnt nuts','tannic','smoked ham','ham','walnuts','baked','mild nutty and fruit','strong malt','salt noticeable',\n",
    "             'strong nutty'],\n",
    " \n",
    " 'acido': ['orange','spicy and candy-like','strong pepper','citrus','spicy','spice','hot spice','strong spice','tart',\n",
    "           'sour fruit','spicey','black pepper and banana','blackpepper','black pepper','high acidity','sour',\n",
    "           'subtle but refreshing','distinct lemon','sour milk','acidic','mild metallic and spice','slightly metallic',\n",
    "           'intense orange','lemon','ripe orange','green apple','mild mint','metallic','mild spice','smoth','sour off flavor',\n",
    "           'sour grapes','very sour','very spicy','pungent','pungent raisin','high acid','sour raisin','mild metallic',\n",
    "           'oranges','aluminum','spicy and fragrant','chemical','rum','tangy','sour fig','intense spice','savory','vinegar',\n",
    "           'intense spicy','mild tart','metal','mint','sour palm','dominant spice','strong spicey','fudgey then spicy',\n",
    "           'evolves black pepper to citrus','sticy','savory lemon','sour orange','spciy'],\n",
    " \n",
    " 'arenoso': ['sandy','sliglty dry','harsh','grainy texture','unrefined','grit','dry','powdery','grainy','chalky','earthy',\n",
    "             'muddy','grassy','slightly dry','roasty and under refined','dirt','off pungent','crumbly','sl. chalky','dirty',\n",
    "             'intense earthy','sl. dry','sandpaper','slight dry','mostly earthy','very sandy','potting soil','mild earthy',\n",
    "             'soil','slight grainy'],\n",
    " \n",
    " 'gorduroso': ['oily','sticky','fatty','waxy','waxy mouthfeel','chewy','molasses','pastey','pungent off flavor','silky',\n",
    "               'cloying','klingy','oily surface','butter','nice melt','molasses notes from sugar','buttery','mild fatty',\n",
    "               'mild molasses','rubber','butterscotch','molassses','clingy','molasses undertone'],\n",
    " \n",
    " 'complexo': ['delicate','astringent','mild profile','alluring aroma','intense','basic','balanced','long lasting','off aroma',\n",
    "              'long','coarse','complex','unbalanced','chunky','smooth texture','rustic','robust','off','flat','simple',\n",
    "              'light color','distinct','off notes','soapy','slow','short','harsh aroma','hammy','muted','texture issues',\n",
    "              'one dimensional','well defined','near perfect shine','dates','intens','very coarse','slow develop',\n",
    "              'unique flavor','accessible','poor texture','dutched?','full flavor spectrum','fungal','off note','poor finish',\n",
    "              'well balanced','multiple off flavors','uneven','accesible','non descript','single note','swiss miss','dense',\n",
    "              'subdued','dominant savory','strong rubber','thick','uneven melt','sharp','slow to develop','super temper','dull',\n",
    "              'modest']\n",
    "}\n",
    "\n",
    "# Substituindo os sabores pelas suas categorias\n",
    "\n",
    "for i in list(dados[\"1_sabor\"]):\n",
    "    if i in dicio[\"doce\"]:\n",
    "        dados.loc[dados[\"1_sabor\"]==i,\"1_sabor\"]= \"doce\"\n",
    "    elif i in dicio[\"amargo\"]:\n",
    "        dados.loc[dados[\"1_sabor\"]==i,\"1_sabor\"]= \"amargo\"\n",
    "    elif i in dicio[\"salgado\"]:\n",
    "        dados.loc[dados[\"1_sabor\"]==i,\"1_sabor\"]= \"salgado\"\n",
    "    elif i in dicio[\"acido\"]:\n",
    "        dados.loc[dados[\"1_sabor\"]==i,\"1_sabor\"]= \"acido\"\n",
    "    elif i in dicio[\"arenoso\"]:\n",
    "        dados.loc[dados[\"1_sabor\"]==i,\"1_sabor\"]= \"arenoso\"\n",
    "    elif i in dicio[\"gorduroso\"]:\n",
    "        dados.loc[dados[\"1_sabor\"]==i,\"1_sabor\"]= \"gorduroso\"\n",
    "    elif i in dicio[\"complexo\"]:\n",
    "        dados.loc[dados[\"1_sabor\"]==i,\"1_sabor\"]= \"complexo\""
   ]
  },
  {
   "cell_type": "code",
   "execution_count": 41,
   "metadata": {},
   "outputs": [
    {
     "data": {
      "text/html": [
       "<div>\n",
       "<style scoped>\n",
       "    .dataframe tbody tr th:only-of-type {\n",
       "        vertical-align: middle;\n",
       "    }\n",
       "\n",
       "    .dataframe tbody tr th {\n",
       "        vertical-align: top;\n",
       "    }\n",
       "\n",
       "    .dataframe thead th {\n",
       "        text-align: right;\n",
       "    }\n",
       "</style>\n",
       "<table border=\"1\" class=\"dataframe\">\n",
       "  <thead>\n",
       "    <tr style=\"text-align: right;\">\n",
       "      <th></th>\n",
       "      <th>rating</th>\n",
       "      <th>país_grão</th>\n",
       "      <th>%cacau</th>\n",
       "      <th>local_cia</th>\n",
       "      <th>num_ingr</th>\n",
       "      <th>manteiga_cacau</th>\n",
       "      <th>baunilha</th>\n",
       "      <th>lecitina</th>\n",
       "      <th>1_sabor</th>\n",
       "    </tr>\n",
       "  </thead>\n",
       "  <tbody>\n",
       "    <tr>\n",
       "      <th>0</th>\n",
       "      <td>1.0</td>\n",
       "      <td>0</td>\n",
       "      <td>0.0</td>\n",
       "      <td>1</td>\n",
       "      <td>3</td>\n",
       "      <td>1</td>\n",
       "      <td>0</td>\n",
       "      <td>0</td>\n",
       "      <td>amargo</td>\n",
       "    </tr>\n",
       "    <tr>\n",
       "      <th>1</th>\n",
       "      <td>1.0</td>\n",
       "      <td>0</td>\n",
       "      <td>0.0</td>\n",
       "      <td>1</td>\n",
       "      <td>3</td>\n",
       "      <td>1</td>\n",
       "      <td>0</td>\n",
       "      <td>0</td>\n",
       "      <td>amargo</td>\n",
       "    </tr>\n",
       "    <tr>\n",
       "      <th>2</th>\n",
       "      <td>0.0</td>\n",
       "      <td>0</td>\n",
       "      <td>0.0</td>\n",
       "      <td>1</td>\n",
       "      <td>3</td>\n",
       "      <td>1</td>\n",
       "      <td>0</td>\n",
       "      <td>0</td>\n",
       "      <td>amargo</td>\n",
       "    </tr>\n",
       "    <tr>\n",
       "      <th>3</th>\n",
       "      <td>1.0</td>\n",
       "      <td>1</td>\n",
       "      <td>0.0</td>\n",
       "      <td>0</td>\n",
       "      <td>4</td>\n",
       "      <td>1</td>\n",
       "      <td>0</td>\n",
       "      <td>1</td>\n",
       "      <td>doce</td>\n",
       "    </tr>\n",
       "    <tr>\n",
       "      <th>4</th>\n",
       "      <td>1.0</td>\n",
       "      <td>1</td>\n",
       "      <td>1.0</td>\n",
       "      <td>0</td>\n",
       "      <td>4</td>\n",
       "      <td>1</td>\n",
       "      <td>0</td>\n",
       "      <td>1</td>\n",
       "      <td>salgado</td>\n",
       "    </tr>\n",
       "    <tr>\n",
       "      <th>...</th>\n",
       "      <td>...</td>\n",
       "      <td>...</td>\n",
       "      <td>...</td>\n",
       "      <td>...</td>\n",
       "      <td>...</td>\n",
       "      <td>...</td>\n",
       "      <td>...</td>\n",
       "      <td>...</td>\n",
       "      <td>...</td>\n",
       "    </tr>\n",
       "    <tr>\n",
       "      <th>2219</th>\n",
       "      <td>0.0</td>\n",
       "      <td>0</td>\n",
       "      <td>0.0</td>\n",
       "      <td>0</td>\n",
       "      <td>4</td>\n",
       "      <td>1</td>\n",
       "      <td>0</td>\n",
       "      <td>0</td>\n",
       "      <td>gorduroso</td>\n",
       "    </tr>\n",
       "    <tr>\n",
       "      <th>2220</th>\n",
       "      <td>1.0</td>\n",
       "      <td>1</td>\n",
       "      <td>0.0</td>\n",
       "      <td>0</td>\n",
       "      <td>3</td>\n",
       "      <td>1</td>\n",
       "      <td>0</td>\n",
       "      <td>0</td>\n",
       "      <td>salgado</td>\n",
       "    </tr>\n",
       "    <tr>\n",
       "      <th>2221</th>\n",
       "      <td>1.0</td>\n",
       "      <td>1</td>\n",
       "      <td>0.0</td>\n",
       "      <td>0</td>\n",
       "      <td>3</td>\n",
       "      <td>1</td>\n",
       "      <td>0</td>\n",
       "      <td>0</td>\n",
       "      <td>complexo</td>\n",
       "    </tr>\n",
       "    <tr>\n",
       "      <th>2222</th>\n",
       "      <td>0.0</td>\n",
       "      <td>0</td>\n",
       "      <td>1.0</td>\n",
       "      <td>0</td>\n",
       "      <td>3</td>\n",
       "      <td>1</td>\n",
       "      <td>0</td>\n",
       "      <td>0</td>\n",
       "      <td>gorduroso</td>\n",
       "    </tr>\n",
       "    <tr>\n",
       "      <th>2223</th>\n",
       "      <td>0.0</td>\n",
       "      <td>0</td>\n",
       "      <td>0.0</td>\n",
       "      <td>0</td>\n",
       "      <td>3</td>\n",
       "      <td>1</td>\n",
       "      <td>0</td>\n",
       "      <td>0</td>\n",
       "      <td>gorduroso</td>\n",
       "    </tr>\n",
       "  </tbody>\n",
       "</table>\n",
       "<p>2224 rows × 9 columns</p>\n",
       "</div>"
      ],
      "text/plain": [
       "      rating país_grão  %cacau local_cia  num_ingr manteiga_cacau baunilha  \\\n",
       "0        1.0         0     0.0         1         3              1        0   \n",
       "1        1.0         0     0.0         1         3              1        0   \n",
       "2        0.0         0     0.0         1         3              1        0   \n",
       "3        1.0         1     0.0         0         4              1        0   \n",
       "4        1.0         1     1.0         0         4              1        0   \n",
       "...      ...       ...     ...       ...       ...            ...      ...   \n",
       "2219     0.0         0     0.0         0         4              1        0   \n",
       "2220     1.0         1     0.0         0         3              1        0   \n",
       "2221     1.0         1     0.0         0         3              1        0   \n",
       "2222     0.0         0     1.0         0         3              1        0   \n",
       "2223     0.0         0     0.0         0         3              1        0   \n",
       "\n",
       "     lecitina    1_sabor  \n",
       "0           0     amargo  \n",
       "1           0     amargo  \n",
       "2           0     amargo  \n",
       "3           1       doce  \n",
       "4           1    salgado  \n",
       "...       ...        ...  \n",
       "2219        0  gorduroso  \n",
       "2220        0    salgado  \n",
       "2221        0   complexo  \n",
       "2222        0  gorduroso  \n",
       "2223        0  gorduroso  \n",
       "\n",
       "[2224 rows x 9 columns]"
      ]
     },
     "execution_count": 41,
     "metadata": {},
     "output_type": "execute_result"
    }
   ],
   "source": [
    "# Dataframe que iremos trabalhar\n",
    "\n",
    "dados"
   ]
  },
  {
   "cell_type": "markdown",
   "metadata": {},
   "source": [
    "1º Coluna (local_cia)- Localização da companhia (1-E.U.A. ou 0-não) $\\Rightarrow$ qualitativa\n",
    "\n",
    "2º Coluna (país_grão)- País de origem do grão (1-América Latina ou 0-não) $\\Rightarrow$ qualitativa\n",
    "\n",
    "3º Coluna (%cacau)- Porcentagem de cacau (1-70% ou 0-outra%) $\\Rightarrow$ quantitativa\n",
    "\n",
    "4º Coluna (rating)- Avaliação de 0 a 4 (1-≥3 ou 0-<3) $\\Rightarrow$ qualitativa \n",
    "\n",
    "5º Coluna (num_ingr)- Número de ingredientes (1, 2, 3, 4, 5 ou 6) $\\Rightarrow$ quantitativo\n",
    "\n",
    "6º Coluna (manteiga_cacau)- Se possui manteiga de cacau (1-tem ou 0-não tem) $\\Rightarrow$ qualitativa\n",
    "\n",
    "7º Coluna (baunilha)- Se possui baunilha (1-tem ou 0-não tem) $\\Rightarrow$ qualitativa\n",
    "\n",
    "8º Coluna (lecitina)- Se possui leticina (1-tem ou 0-não tem) $\\Rightarrow$ qualitativa\n",
    "\n",
    "9º Coluna (1_sabor)- Primeiro sabor (doce, amargo, salgado, acido, arenoso, gorduroso ou complexo) $\\Rightarrow$ qualitativa"
   ]
  },
  {
   "cell_type": "code",
   "execution_count": 42,
   "metadata": {},
   "outputs": [
    {
     "data": {
      "text/plain": [
       "rating            0\n",
       "país_grão         0\n",
       "%cacau            0\n",
       "local_cia         0\n",
       "num_ingr          0\n",
       "manteiga_cacau    0\n",
       "baunilha          0\n",
       "lecitina          0\n",
       "1_sabor           0\n",
       "dtype: int64"
      ]
     },
     "execution_count": 42,
     "metadata": {},
     "output_type": "execute_result"
    }
   ],
   "source": [
    "# Faz a contagem de células vazias de cada coluna\n",
    "\n",
    "dados.isnull().sum()"
   ]
  },
  {
   "cell_type": "markdown",
   "metadata": {},
   "source": [
    "-------------------\n",
    "## Análise exploratória"
   ]
  },
  {
   "cell_type": "code",
   "execution_count": 43,
   "metadata": {
    "scrolled": true
   },
   "outputs": [
    {
     "data": {
      "image/png": "[encoded data removed]",
      "text/plain": [
       "<Figure size 432x288 with 1 Axes>"
      ]
     },
     "metadata": {},
     "output_type": "display_data"
    }
   ],
   "source": [
    "# rating\n",
    "\n",
    "a = dados[\"rating\"].value_counts()\n",
    "plt.pie(a, autopct='%.1f%%',  textprops={'fontsize': 15}, startangle=90, labels=[\"<3.5\",\"≥3.5\"], \n",
    "        colors=['lightpink', 'lightgreen'])\n",
    "plt.title(\"Distribuição de rating\", fontsize=20);"
   ]
  },
  {
   "cell_type": "code",
   "execution_count": 44,
   "metadata": {
    "scrolled": true
   },
   "outputs": [
    {
     "data": {
      "image/png": "[encoded data removed]",
      "text/plain": [
       "<Figure size 936x288 with 3 Axes>"
      ]
     },
     "metadata": {},
     "output_type": "display_data"
    }
   ],
   "source": [
    "# local_cia\n",
    "\n",
    "plt.figure(figsize=(13,4))\n",
    "\n",
    "plt.subplot(131)\n",
    "a = dados[\"local_cia\"].value_counts()\n",
    "plt.pie(a, autopct='%.1f%%', textprops={'fontsize': 15},startangle=90, labels=[\"Não E.U.A.\",\"E.U.A.\"],\n",
    "        colors=['lightblue', 'lightyellow'])\n",
    "plt.title(\"Distribuição dos países da companhia\", fontsize=20)\n",
    "\n",
    "plt.subplot(132)\n",
    "b = dados.loc[dados.rating==1,\"local_cia\"].value_counts()\n",
    "plt.pie(b, autopct='%.1f%%', textprops={'fontsize': 15},startangle=90, labels=[\"Não E.U.A.\",\"E.U.A.\"],\n",
    "        colors=['lightpink', 'lightgreen'])\n",
    "plt.title(\"Rating ≥3.5\", fontsize=20)\n",
    "\n",
    "plt.subplot(133)\n",
    "c = dados.loc[dados.rating==0,\"local_cia\"].value_counts()\n",
    "plt.pie(c, autopct='%.1f%%', textprops={'fontsize': 15},startangle=90, labels=[\"Não E.U.A.\",\"E.U.A.\"],\n",
    "        colors=['lightpink', 'lightgreen'])\n",
    "plt.title(\"Rating <3.5\", fontsize=20)\n",
    "\n",
    "plt.tight_layout();"
   ]
  },
  {
   "cell_type": "code",
   "execution_count": 45,
   "metadata": {
    "scrolled": false
   },
   "outputs": [
    {
     "data": {
      "image/png": "[encoded data removed]",
      "text/plain": [
       "<Figure size 936x288 with 3 Axes>"
      ]
     },
     "metadata": {},
     "output_type": "display_data"
    }
   ],
   "source": [
    "# país_grão\n",
    "\n",
    "plt.figure(figsize=(13,4))\n",
    "\n",
    "plt.subplot(131)\n",
    "a = dados[\"país_grão\"].value_counts()\n",
    "plt.pie(a, autopct='%.1f%%', textprops={'fontsize': 15},startangle=90, labels=[\"Latina\", \"Não latina\"],\n",
    "        colors=['lightyellow', 'lightblue'])\n",
    "plt.title(\"Distribuição dos países do grão\", fontsize=20)\n",
    "\n",
    "plt.subplot(132)\n",
    "b = dados.loc[dados.rating==1,\"país_grão\"].value_counts()\n",
    "plt.pie(b, autopct='%.1f%%', textprops={'fontsize': 15},startangle=90, labels=[\"Latina\", \"Não latina\"],\n",
    "        colors=['lightgreen', 'lightpink'])\n",
    "plt.title(\"Rating ≥3.5\", fontsize=20)\n",
    "\n",
    "plt.subplot(133)\n",
    "c = dados.loc[dados.rating==0,\"país_grão\"].value_counts()\n",
    "plt.pie(c, autopct='%.1f%%', textprops={'fontsize': 15},startangle=90, labels=[\"Latina\", \"Não latina\"],\n",
    "        colors=['lightgreen', 'lightpink'])\n",
    "plt.title(\"Rating <3.5\", fontsize=20)\n",
    "\n",
    "plt.tight_layout();"
   ]
  },
  {
   "cell_type": "code",
   "execution_count": 46,
   "metadata": {
    "scrolled": false
   },
   "outputs": [
    {
     "data": {
      "image/png": "[encoded data removed]",
      "text/plain": [
       "<Figure size 936x288 with 3 Axes>"
      ]
     },
     "metadata": {},
     "output_type": "display_data"
    }
   ],
   "source": [
    "# %cacau\n",
    "\n",
    "plt.figure(figsize=(13,4))\n",
    "\n",
    "plt.subplot(131)\n",
    "a = dados[\"%cacau\"].value_counts()\n",
    "plt.pie(a, autopct='%.1f%%', textprops={'fontsize': 15},startangle=90, labels=[\"outros%\", \"70%\"],\n",
    "        colors=['lightblue', 'lightyellow'])\n",
    "plt.title(\"Distribuição da % de cacau\", fontsize=20)\n",
    "\n",
    "plt.subplot(132)\n",
    "b = dados.loc[dados.rating==1,\"%cacau\"].value_counts()\n",
    "plt.pie(b, autopct='%.1f%%', textprops={'fontsize': 15},startangle=90, labels=[\"outros%\", \"70%\"],\n",
    "        colors=['lightpink', 'lightgreen'])\n",
    "plt.title(\"Rating ≥3.5\", fontsize=20)\n",
    "\n",
    "plt.subplot(133)\n",
    "c = dados.loc[dados.rating==0,\"%cacau\"].value_counts()\n",
    "plt.pie(c, autopct='%.1f%%', textprops={'fontsize': 15},startangle=90, labels=[\"outros%\", \"70%\"],\n",
    "        colors=['lightpink', 'lightgreen'])\n",
    "plt.title(\"Rating <3.5\", fontsize=20)\n",
    "\n",
    "plt.tight_layout();"
   ]
  },
  {
   "cell_type": "code",
   "execution_count": 47,
   "metadata": {
    "scrolled": true
   },
   "outputs": [
    {
     "data": {
      "image/png": "[encoded data removed]",
      "text/plain": [
       "<Figure size 936x288 with 3 Axes>"
      ]
     },
     "metadata": {
      "needs_background": "light"
     },
     "output_type": "display_data"
    }
   ],
   "source": [
    "# num_ingr \n",
    "\n",
    "plt.figure(figsize=(13,4))\n",
    "\n",
    "plt.subplot(131)\n",
    "media = dados.loc[:,\"num_ingr\"]\n",
    "plt.hist(dados.loc[:,\"num_ingr\"],bins=10,density=True,color=\"lightpink\")\n",
    "plt.title(f\"Distribuição do número de ingredientes\\n(Média: {media.mean():.4f})\", fontsize=13)\n",
    "plt.xticks([1, 2, 3, 4, 5, 6],fontsize=10)\n",
    "plt.yticks([0,0.2,0.4,0.6,0.8,1])\n",
    "plt.xlabel(\"número de ingredientes\",fontsize=10)\n",
    "plt.ylabel(\"densidade\",fontsize=10);\n",
    "\n",
    "plt.subplot(132)\n",
    "media = dados.loc[dados.rating==0,\"num_ingr\"]\n",
    "plt.hist(dados.loc[dados.rating==0,\"num_ingr\"],bins=10,density=True,color=\"lightblue\")\n",
    "plt.title(f\"Rating <3.5\\n(Média: {media.mean():.4f})\", fontsize=13)\n",
    "plt.xticks([1, 2, 3, 4, 5, 6],fontsize=10)\n",
    "plt.yticks([0,0.2,0.4,0.6,0.8,1])\n",
    "plt.xlabel(\"número de ingredientes\",fontsize=10)\n",
    "plt.ylabel(\"densidade\",fontsize=10)\n",
    "\n",
    "plt.subplot(133)\n",
    "media = dados.loc[dados.rating==1,\"num_ingr\"]\n",
    "plt.hist(dados.loc[dados.rating==1,\"num_ingr\"],bins=10,density=True,color=\"lightgreen\")\n",
    "plt.title(f\"Rating ≥3.5\\n(Média: {media.mean():.4f})\", fontsize=13)\n",
    "plt.xticks([1, 2, 3, 4, 5, 6],fontsize=10)\n",
    "plt.yticks([0,0.2,0.4,0.6,0.8,1])\n",
    "plt.xlabel(\"número de ingredientes\",fontsize=10)\n",
    "plt.ylabel(\"densidade\",fontsize=10)\n",
    "\n",
    "plt.tight_layout(pad=3)\n",
    "plt.show()"
   ]
  },
  {
   "cell_type": "code",
   "execution_count": 48,
   "metadata": {
    "scrolled": false
   },
   "outputs": [
    {
     "data": {
      "image/png": "[encoded data removed]",
      "text/plain": [
       "<Figure size 936x288 with 3 Axes>"
      ]
     },
     "metadata": {},
     "output_type": "display_data"
    }
   ],
   "source": [
    "# manteiga_cacau\n",
    "\n",
    "plt.figure(figsize=(13,4))\n",
    "\n",
    "plt.subplot(131)\n",
    "a = dados[\"manteiga_cacau\"].value_counts()\n",
    "plt.pie(a, autopct='%.1f%%', textprops={'fontsize': 15},startangle=90, labels=[\"tem\", \"não tem\"],\n",
    "        colors=['lightyellow', 'lightblue'])\n",
    "plt.title(\"Distribuição de manteiga de cacau\", fontsize=20)\n",
    "\n",
    "plt.subplot(132)\n",
    "b = dados.loc[dados.rating==1,\"manteiga_cacau\"].value_counts()\n",
    "plt.pie(b, autopct='%.1f%%', textprops={'fontsize': 15},startangle=90, labels=[\"tem\", \"não tem\"],\n",
    "        colors=['lightgreen', 'lightpink'])\n",
    "plt.title(\"Rating ≥3.5\", fontsize=20)\n",
    "\n",
    "plt.subplot(133)\n",
    "c = dados.loc[dados.rating==0,\"manteiga_cacau\"].value_counts()\n",
    "plt.pie(c, autopct='%.1f%%', textprops={'fontsize': 15},startangle=90, labels=[\"tem\", \"não tem\"],\n",
    "        colors=['lightgreen', 'lightpink'])\n",
    "plt.title(\"Rating <3.5\", fontsize=20)\n",
    "\n",
    "plt.tight_layout();"
   ]
  },
  {
   "cell_type": "code",
   "execution_count": 49,
   "metadata": {
    "scrolled": false
   },
   "outputs": [
    {
     "data": {
      "image/png": "[encoded data removed]",
      "text/plain": [
       "<Figure size 936x288 with 3 Axes>"
      ]
     },
     "metadata": {},
     "output_type": "display_data"
    }
   ],
   "source": [
    "# baunilha\n",
    "\n",
    "plt.figure(figsize=(13,4))\n",
    "\n",
    "plt.subplot(131)\n",
    "a = dados[\"baunilha\"].value_counts()\n",
    "plt.pie(a, autopct='%.1f%%', textprops={'fontsize': 15},startangle=90, labels=[\"não tem\", \"tem\"],\n",
    "        colors=['lightblue', 'lightyellow'])\n",
    "plt.title(\"Distribuição de baunilha\", fontsize=20)\n",
    "\n",
    "plt.subplot(132)\n",
    "b = dados.loc[dados.rating==1,\"baunilha\"].value_counts()\n",
    "plt.pie(b, autopct='%.1f%%', textprops={'fontsize': 15},startangle=90, labels=[\"não tem\", \"tem\"],\n",
    "        colors=['lightpink', 'lightgreen'])\n",
    "plt.title(\"Rating ≥3.5\", fontsize=20)\n",
    "\n",
    "plt.subplot(133)\n",
    "c = dados.loc[dados.rating==0,\"baunilha\"].value_counts()\n",
    "plt.pie(c, autopct='%.1f%%', textprops={'fontsize': 15},startangle=90, labels=[\"não tem\", \"tem\"],\n",
    "        colors=['lightpink', 'lightgreen'])\n",
    "plt.title(\"Rating <3.5\", fontsize=20)\n",
    "\n",
    "plt.tight_layout();"
   ]
  },
  {
   "cell_type": "code",
   "execution_count": 50,
   "metadata": {
    "scrolled": true
   },
   "outputs": [
    {
     "data": {
      "image/png": "[encoded data removed]",
      "text/plain": [
       "<Figure size 936x288 with 3 Axes>"
      ]
     },
     "metadata": {},
     "output_type": "display_data"
    }
   ],
   "source": [
    "# lecitina\n",
    "\n",
    "plt.figure(figsize=(13,4))\n",
    "\n",
    "plt.subplot(131)\n",
    "a = dados[\"lecitina\"].value_counts()\n",
    "plt.pie(a, autopct='%.1f%%', textprops={'fontsize': 15},startangle=90, labels=[\"não tem\", \"tem\"],\n",
    "        colors=['lightblue', 'lightyellow'])\n",
    "plt.title(\"Distribuição de lecitina\", fontsize=20)\n",
    "\n",
    "plt.subplot(132)\n",
    "b = dados.loc[dados.rating==1,\"lecitina\"].value_counts()\n",
    "plt.pie(b, autopct='%.1f%%', textprops={'fontsize': 15},startangle=90, labels=[\"não tem\", \"tem\"],\n",
    "        colors=['lightpink', 'lightgreen'])\n",
    "plt.title(\"Rating ≥3.5\", fontsize=20)\n",
    "\n",
    "plt.subplot(133)\n",
    "c = dados.loc[dados.rating==0,\"lecitina\"].value_counts()\n",
    "plt.pie(c, autopct='%.1f%%', textprops={'fontsize': 15},startangle=90, labels=[\"não tem\", \"tem\"],\n",
    "        colors=['lightpink', 'lightgreen'])\n",
    "plt.title(\"Rating <3.5\", fontsize=20)\n",
    "\n",
    "plt.tight_layout();"
   ]
  },
  {
   "cell_type": "code",
   "execution_count": 51,
   "metadata": {
    "scrolled": false
   },
   "outputs": [
    {
     "data": {
      "text/html": [
       "<div>\n",
       "<style scoped>\n",
       "    .dataframe tbody tr th:only-of-type {\n",
       "        vertical-align: middle;\n",
       "    }\n",
       "\n",
       "    .dataframe tbody tr th {\n",
       "        vertical-align: top;\n",
       "    }\n",
       "\n",
       "    .dataframe thead th {\n",
       "        text-align: right;\n",
       "    }\n",
       "</style>\n",
       "<table border=\"1\" class=\"dataframe\">\n",
       "  <thead>\n",
       "    <tr style=\"text-align: right;\">\n",
       "      <th>1_sabor</th>\n",
       "      <th>acido</th>\n",
       "      <th>amargo</th>\n",
       "      <th>arenoso</th>\n",
       "      <th>complexo</th>\n",
       "      <th>doce</th>\n",
       "      <th>gorduroso</th>\n",
       "      <th>salgado</th>\n",
       "    </tr>\n",
       "    <tr>\n",
       "      <th>rating</th>\n",
       "      <th></th>\n",
       "      <th></th>\n",
       "      <th></th>\n",
       "      <th></th>\n",
       "      <th></th>\n",
       "      <th></th>\n",
       "      <th></th>\n",
       "    </tr>\n",
       "  </thead>\n",
       "  <tbody>\n",
       "    <tr>\n",
       "      <th>0.0</th>\n",
       "      <td>7.89</td>\n",
       "      <td>14.76</td>\n",
       "      <td>18.41</td>\n",
       "      <td>11.47</td>\n",
       "      <td>23.45</td>\n",
       "      <td>14.17</td>\n",
       "      <td>9.86</td>\n",
       "    </tr>\n",
       "    <tr>\n",
       "      <th>1.0</th>\n",
       "      <td>9.59</td>\n",
       "      <td>14.27</td>\n",
       "      <td>7.37</td>\n",
       "      <td>13.68</td>\n",
       "      <td>37.78</td>\n",
       "      <td>8.07</td>\n",
       "      <td>9.24</td>\n",
       "    </tr>\n",
       "    <tr>\n",
       "      <th>All</th>\n",
       "      <td>8.54</td>\n",
       "      <td>14.57</td>\n",
       "      <td>14.16</td>\n",
       "      <td>12.32</td>\n",
       "      <td>28.96</td>\n",
       "      <td>11.83</td>\n",
       "      <td>9.62</td>\n",
       "    </tr>\n",
       "  </tbody>\n",
       "</table>\n",
       "</div>"
      ],
      "text/plain": [
       "1_sabor  acido  amargo  arenoso  complexo   doce  gorduroso  salgado\n",
       "rating                                                              \n",
       "0.0       7.89   14.76    18.41     11.47  23.45      14.17     9.86\n",
       "1.0       9.59   14.27     7.37     13.68  37.78       8.07     9.24\n",
       "All       8.54   14.57    14.16     12.32  28.96      11.83     9.62"
      ]
     },
     "execution_count": 51,
     "metadata": {},
     "output_type": "execute_result"
    }
   ],
   "source": [
    "# 1_sabor\n",
    "\n",
    "pd.crosstab(dados.rating, dados[\"1_sabor\"], margins=True, normalize=\"index\").round(4)*100"
   ]
  },
  {
   "cell_type": "code",
   "execution_count": 52,
   "metadata": {
    "scrolled": true
   },
   "outputs": [
    {
     "data": {
      "image/png": "[encoded data removed]",
      "text/plain": [
       "<Figure size 1440x360 with 3 Axes>"
      ]
     },
     "metadata": {
      "needs_background": "light"
     },
     "output_type": "display_data"
    }
   ],
   "source": [
    "l= [[8.54,14.57,14.16,12.32,28.96,11.83,9.62],\n",
    "    [7.89,14.76,18.41,11.47,23.45,14.17,9.86],\n",
    "    [9.59,14.27,7.37,13.68,37.78,8.07,9.24]\n",
    "   ]\n",
    "\n",
    "plt.figure(figsize=(20,5))\n",
    "\n",
    "plt.subplot(131)\n",
    "largura = 0.25\n",
    "c = np.arange(len(l[0]))\n",
    "plt.bar(c, l[0], color=\"lightpink\", width=largura)\n",
    "plt.xticks([i+0.01 for i in range(len(l[0]))],[\"acido\", \"amargo\", \"arenoso\", \"complexo\", \"doce\", \"gorduroso\", \"salgado\"]\n",
    "           ,fontsize=12)\n",
    "plt.yticks([0,5,10,20,30])\n",
    "plt.xlabel(\"Sabores\")\n",
    "plt.ylabel(\"Porcentagem\")\n",
    "plt.title(f\"Distribuição de 1º sabor\",fontsize=20)\n",
    "\n",
    "plt.subplot(132)\n",
    "largura = 0.25\n",
    "c = np.arange(len(l[1]))\n",
    "plt.bar(c, l[1], color=\"lightblue\", width=largura)\n",
    "plt.xticks([i+0.01 for i in range(len(l[1]))],[\"acido\", \"amargo\", \"arenoso\", \"complexo\", \"doce\", \"gorduroso\", \"salgado\"]\n",
    "           ,fontsize=12)\n",
    "plt.yticks([0,5,10,20,30])\n",
    "plt.xlabel(\"Sabores\")\n",
    "plt.ylabel(\"Porcentagem\")\n",
    "plt.title(f\"Rating <3\",fontsize=20)\n",
    "\n",
    "plt.subplot(133)\n",
    "largura = 0.25\n",
    "c = np.arange(len(l[2]))\n",
    "plt.bar(c, l[2], color=\"lightgreen\", width=largura)\n",
    "plt.xticks([i+0.01 for i in range(len(l[2]))],[\"acido\", \"amargo\", \"arenoso\", \"complexo\", \"doce\", \"gorduroso\", \"salgado\"]\n",
    "           ,fontsize=12)\n",
    "plt.yticks([0,5,10,20,30])\n",
    "plt.xlabel(\"Sabores\")\n",
    "plt.ylabel(\"Porcentagem\")\n",
    "plt.title(f\"Rating ≥3\",fontsize=20)\n",
    "\n",
    "plt.tight_layout(pad=2) ;"
   ]
  },
  {
   "cell_type": "markdown",
   "metadata": {},
   "source": [
    "-------------------------------"
   ]
  },
  {
   "cell_type": "markdown",
   "metadata": {},
   "source": [
    "## Decision  Tree\n",
    "\n",
    "https://www.datacamp.com/community/tutorials/decision-tree-classification-python\n",
    "\n",
    "https://www.maxwell.vrac.puc-rio.br/7587/7587_4.PDF\n",
    "\n",
    "http://professorluizalberto.com.br/site/images/2020-1/Python%20%C3%81rvore%20de%20Decis%C3%A3o.pdf"
   ]
  },
  {
   "cell_type": "code",
   "execution_count": 53,
   "metadata": {},
   "outputs": [],
   "source": [
    "from sklearn.tree import DecisionTreeClassifier\n",
    "from sklearn.model_selection import train_test_split\n",
    "from sklearn import metrics"
   ]
  },
  {
   "cell_type": "code",
   "execution_count": 54,
   "metadata": {
    "scrolled": false
   },
   "outputs": [
    {
     "data": {
      "text/html": [
       "<div>\n",
       "<style scoped>\n",
       "    .dataframe tbody tr th:only-of-type {\n",
       "        vertical-align: middle;\n",
       "    }\n",
       "\n",
       "    .dataframe tbody tr th {\n",
       "        vertical-align: top;\n",
       "    }\n",
       "\n",
       "    .dataframe thead th {\n",
       "        text-align: right;\n",
       "    }\n",
       "</style>\n",
       "<table border=\"1\" class=\"dataframe\">\n",
       "  <thead>\n",
       "    <tr style=\"text-align: right;\">\n",
       "      <th></th>\n",
       "      <th>rating</th>\n",
       "      <th>país_grão</th>\n",
       "      <th>%cacau</th>\n",
       "      <th>local_cia</th>\n",
       "      <th>num_ingr</th>\n",
       "      <th>manteiga_cacau</th>\n",
       "      <th>baunilha</th>\n",
       "      <th>lecitina</th>\n",
       "      <th>1_sabor_acido</th>\n",
       "      <th>1_sabor_amargo</th>\n",
       "      <th>1_sabor_arenoso</th>\n",
       "      <th>1_sabor_complexo</th>\n",
       "      <th>1_sabor_doce</th>\n",
       "      <th>1_sabor_gorduroso</th>\n",
       "      <th>1_sabor_salgado</th>\n",
       "    </tr>\n",
       "  </thead>\n",
       "  <tbody>\n",
       "    <tr>\n",
       "      <th>0</th>\n",
       "      <td>1.0</td>\n",
       "      <td>0</td>\n",
       "      <td>0.0</td>\n",
       "      <td>1</td>\n",
       "      <td>3</td>\n",
       "      <td>1</td>\n",
       "      <td>0</td>\n",
       "      <td>0</td>\n",
       "      <td>0</td>\n",
       "      <td>1</td>\n",
       "      <td>0</td>\n",
       "      <td>0</td>\n",
       "      <td>0</td>\n",
       "      <td>0</td>\n",
       "      <td>0</td>\n",
       "    </tr>\n",
       "    <tr>\n",
       "      <th>1</th>\n",
       "      <td>1.0</td>\n",
       "      <td>0</td>\n",
       "      <td>0.0</td>\n",
       "      <td>1</td>\n",
       "      <td>3</td>\n",
       "      <td>1</td>\n",
       "      <td>0</td>\n",
       "      <td>0</td>\n",
       "      <td>0</td>\n",
       "      <td>1</td>\n",
       "      <td>0</td>\n",
       "      <td>0</td>\n",
       "      <td>0</td>\n",
       "      <td>0</td>\n",
       "      <td>0</td>\n",
       "    </tr>\n",
       "    <tr>\n",
       "      <th>2</th>\n",
       "      <td>0.0</td>\n",
       "      <td>0</td>\n",
       "      <td>0.0</td>\n",
       "      <td>1</td>\n",
       "      <td>3</td>\n",
       "      <td>1</td>\n",
       "      <td>0</td>\n",
       "      <td>0</td>\n",
       "      <td>0</td>\n",
       "      <td>1</td>\n",
       "      <td>0</td>\n",
       "      <td>0</td>\n",
       "      <td>0</td>\n",
       "      <td>0</td>\n",
       "      <td>0</td>\n",
       "    </tr>\n",
       "    <tr>\n",
       "      <th>3</th>\n",
       "      <td>1.0</td>\n",
       "      <td>1</td>\n",
       "      <td>0.0</td>\n",
       "      <td>0</td>\n",
       "      <td>4</td>\n",
       "      <td>1</td>\n",
       "      <td>0</td>\n",
       "      <td>1</td>\n",
       "      <td>0</td>\n",
       "      <td>0</td>\n",
       "      <td>0</td>\n",
       "      <td>0</td>\n",
       "      <td>1</td>\n",
       "      <td>0</td>\n",
       "      <td>0</td>\n",
       "    </tr>\n",
       "    <tr>\n",
       "      <th>4</th>\n",
       "      <td>1.0</td>\n",
       "      <td>1</td>\n",
       "      <td>1.0</td>\n",
       "      <td>0</td>\n",
       "      <td>4</td>\n",
       "      <td>1</td>\n",
       "      <td>0</td>\n",
       "      <td>1</td>\n",
       "      <td>0</td>\n",
       "      <td>0</td>\n",
       "      <td>0</td>\n",
       "      <td>0</td>\n",
       "      <td>0</td>\n",
       "      <td>0</td>\n",
       "      <td>1</td>\n",
       "    </tr>\n",
       "    <tr>\n",
       "      <th>...</th>\n",
       "      <td>...</td>\n",
       "      <td>...</td>\n",
       "      <td>...</td>\n",
       "      <td>...</td>\n",
       "      <td>...</td>\n",
       "      <td>...</td>\n",
       "      <td>...</td>\n",
       "      <td>...</td>\n",
       "      <td>...</td>\n",
       "      <td>...</td>\n",
       "      <td>...</td>\n",
       "      <td>...</td>\n",
       "      <td>...</td>\n",
       "      <td>...</td>\n",
       "      <td>...</td>\n",
       "    </tr>\n",
       "    <tr>\n",
       "      <th>2219</th>\n",
       "      <td>0.0</td>\n",
       "      <td>0</td>\n",
       "      <td>0.0</td>\n",
       "      <td>0</td>\n",
       "      <td>4</td>\n",
       "      <td>1</td>\n",
       "      <td>0</td>\n",
       "      <td>0</td>\n",
       "      <td>0</td>\n",
       "      <td>0</td>\n",
       "      <td>0</td>\n",
       "      <td>0</td>\n",
       "      <td>0</td>\n",
       "      <td>1</td>\n",
       "      <td>0</td>\n",
       "    </tr>\n",
       "    <tr>\n",
       "      <th>2220</th>\n",
       "      <td>1.0</td>\n",
       "      <td>1</td>\n",
       "      <td>0.0</td>\n",
       "      <td>0</td>\n",
       "      <td>3</td>\n",
       "      <td>1</td>\n",
       "      <td>0</td>\n",
       "      <td>0</td>\n",
       "      <td>0</td>\n",
       "      <td>0</td>\n",
       "      <td>0</td>\n",
       "      <td>0</td>\n",
       "      <td>0</td>\n",
       "      <td>0</td>\n",
       "      <td>1</td>\n",
       "    </tr>\n",
       "    <tr>\n",
       "      <th>2221</th>\n",
       "      <td>1.0</td>\n",
       "      <td>1</td>\n",
       "      <td>0.0</td>\n",
       "      <td>0</td>\n",
       "      <td>3</td>\n",
       "      <td>1</td>\n",
       "      <td>0</td>\n",
       "      <td>0</td>\n",
       "      <td>0</td>\n",
       "      <td>0</td>\n",
       "      <td>0</td>\n",
       "      <td>1</td>\n",
       "      <td>0</td>\n",
       "      <td>0</td>\n",
       "      <td>0</td>\n",
       "    </tr>\n",
       "    <tr>\n",
       "      <th>2222</th>\n",
       "      <td>0.0</td>\n",
       "      <td>0</td>\n",
       "      <td>1.0</td>\n",
       "      <td>0</td>\n",
       "      <td>3</td>\n",
       "      <td>1</td>\n",
       "      <td>0</td>\n",
       "      <td>0</td>\n",
       "      <td>0</td>\n",
       "      <td>0</td>\n",
       "      <td>0</td>\n",
       "      <td>0</td>\n",
       "      <td>0</td>\n",
       "      <td>1</td>\n",
       "      <td>0</td>\n",
       "    </tr>\n",
       "    <tr>\n",
       "      <th>2223</th>\n",
       "      <td>0.0</td>\n",
       "      <td>0</td>\n",
       "      <td>0.0</td>\n",
       "      <td>0</td>\n",
       "      <td>3</td>\n",
       "      <td>1</td>\n",
       "      <td>0</td>\n",
       "      <td>0</td>\n",
       "      <td>0</td>\n",
       "      <td>0</td>\n",
       "      <td>0</td>\n",
       "      <td>0</td>\n",
       "      <td>0</td>\n",
       "      <td>1</td>\n",
       "      <td>0</td>\n",
       "    </tr>\n",
       "  </tbody>\n",
       "</table>\n",
       "<p>2224 rows × 15 columns</p>\n",
       "</div>"
      ],
      "text/plain": [
       "      rating país_grão  %cacau local_cia  num_ingr manteiga_cacau baunilha  \\\n",
       "0        1.0         0     0.0         1         3              1        0   \n",
       "1        1.0         0     0.0         1         3              1        0   \n",
       "2        0.0         0     0.0         1         3              1        0   \n",
       "3        1.0         1     0.0         0         4              1        0   \n",
       "4        1.0         1     1.0         0         4              1        0   \n",
       "...      ...       ...     ...       ...       ...            ...      ...   \n",
       "2219     0.0         0     0.0         0         4              1        0   \n",
       "2220     1.0         1     0.0         0         3              1        0   \n",
       "2221     1.0         1     0.0         0         3              1        0   \n",
       "2222     0.0         0     1.0         0         3              1        0   \n",
       "2223     0.0         0     0.0         0         3              1        0   \n",
       "\n",
       "     lecitina  1_sabor_acido  1_sabor_amargo  1_sabor_arenoso  \\\n",
       "0           0              0               1                0   \n",
       "1           0              0               1                0   \n",
       "2           0              0               1                0   \n",
       "3           1              0               0                0   \n",
       "4           1              0               0                0   \n",
       "...       ...            ...             ...              ...   \n",
       "2219        0              0               0                0   \n",
       "2220        0              0               0                0   \n",
       "2221        0              0               0                0   \n",
       "2222        0              0               0                0   \n",
       "2223        0              0               0                0   \n",
       "\n",
       "      1_sabor_complexo  1_sabor_doce  1_sabor_gorduroso  1_sabor_salgado  \n",
       "0                    0             0                  0                0  \n",
       "1                    0             0                  0                0  \n",
       "2                    0             0                  0                0  \n",
       "3                    0             1                  0                0  \n",
       "4                    0             0                  0                1  \n",
       "...                ...           ...                ...              ...  \n",
       "2219                 0             0                  1                0  \n",
       "2220                 0             0                  0                1  \n",
       "2221                 1             0                  0                0  \n",
       "2222                 0             0                  1                0  \n",
       "2223                 0             0                  1                0  \n",
       "\n",
       "[2224 rows x 15 columns]"
      ]
     },
     "execution_count": 54,
     "metadata": {},
     "output_type": "execute_result"
    }
   ],
   "source": [
    "dados2=pd.get_dummies(data=dados,columns=[\"1_sabor\"])\n",
    "dados2"
   ]
  },
  {
   "cell_type": "code",
   "execution_count": 55,
   "metadata": {},
   "outputs": [],
   "source": [
    "feature = ['local_cia', 'país_grão', '%cacau', 'num_ingr','manteiga_cacau', 'baunilha', 'lecitina', '1_sabor_acido',\n",
    "       '1_sabor_amargo', '1_sabor_arenoso', '1_sabor_complexo', '1_sabor_doce','1_sabor_gorduroso', '1_sabor_salgado']\n",
    "x = dados2[feature]\n",
    "y = dados2.rating"
   ]
  },
  {
   "cell_type": "code",
   "execution_count": 56,
   "metadata": {},
   "outputs": [],
   "source": [
    "x_train, x_test, y_train, y_test = train_test_split(x, y, test_size=0.3, random_state=1)"
   ]
  },
  {
   "cell_type": "code",
   "execution_count": 57,
   "metadata": {},
   "outputs": [],
   "source": [
    "clf = DecisionTreeClassifier()\n",
    "clf2 = clf.fit(x_train, y_train)\n",
    "y_pred=clf2.predict(x_test)"
   ]
  },
  {
   "cell_type": "code",
   "execution_count": 58,
   "metadata": {
    "scrolled": true
   },
   "outputs": [
    {
     "name": "stdout",
     "output_type": "stream",
     "text": [
      "Accuracy: 61.68%\n"
     ]
    }
   ],
   "source": [
    "print(f\"Accuracy: {round((metrics.accuracy_score(y_test, y_pred)*100), 2)}%\")"
   ]
  },
  {
   "cell_type": "code",
   "execution_count": 59,
   "metadata": {
    "scrolled": false
   },
   "outputs": [
    {
     "data": {
      "text/plain": [
       "num_ingr             14.829\n",
       "local_cia            11.870\n",
       "1_sabor_doce         11.448\n",
       "país_grão            10.207\n",
       "%cacau                9.985\n",
       "lecitina              7.451\n",
       "1_sabor_arenoso       6.756\n",
       "manteiga_cacau        6.119\n",
       "baunilha              4.332\n",
       "1_sabor_gorduroso     4.068\n",
       "1_sabor_amargo        3.949\n",
       "1_sabor_complexo      3.918\n",
       "1_sabor_salgado       2.892\n",
       "1_sabor_acido         2.176\n",
       "dtype: float64"
      ]
     },
     "execution_count": 59,
     "metadata": {},
     "output_type": "execute_result"
    }
   ],
   "source": [
    "importancia = pd.Series(clf.feature_importances_, index=feature).sort_values(ascending=False).round(5)*100\n",
    "importancia"
   ]
  },
  {
   "cell_type": "markdown",
   "metadata": {},
   "source": [
    "# Random forest classifier\n",
    "https://stackabuse.com/random-forest-algorithm-with-python-and-scikit-learn\n",
    "\n",
    "https://towardsdatascience.com/understanding-random-forest-58381e0602d2\n",
    "\n",
    "https://stackabuse.com/random-forest-algorithm-with-python-and-scikit-learn\n",
    "\n",
    "https://scikit-learn.org/stable/modules/generated/sklearn.ensemble.RandomForestClassifier.html"
   ]
  },
  {
   "cell_type": "code",
   "execution_count": 60,
   "metadata": {},
   "outputs": [],
   "source": [
    "from sklearn.ensemble import RandomForestClassifier\n",
    "from sklearn.model_selection import train_test_split"
   ]
  },
  {
   "cell_type": "code",
   "execution_count": 100,
   "metadata": {},
   "outputs": [],
   "source": [
    "feature = ['local_cia', 'país_grão', '%cacau', 'num_ingr','manteiga_cacau', 'baunilha', 'lecitina', '1_sabor_acido',\n",
    "       '1_sabor_amargo', '1_sabor_arenoso', '1_sabor_complexo', '1_sabor_doce','1_sabor_gorduroso', '1_sabor_salgado']\n",
    "X = dados2[feature]\n",
    "Y = dados2.rating"
   ]
  },
  {
   "cell_type": "code",
   "execution_count": 102,
   "metadata": {},
   "outputs": [],
   "source": [
    "Xtrain, Xtest, ytrain, ytest = train_test_split(X, Y, test_size=0.3, random_state=0)"
   ]
  },
  {
   "cell_type": "code",
   "execution_count": 103,
   "metadata": {
    "scrolled": true
   },
   "outputs": [],
   "source": [
    "classifier = RandomForestClassifier(n_estimators=20, random_state=0)\n",
    "classifier.fit(Xtrain, ytrain)\n",
    "Y_pred = classifier.predict(Xtest)"
   ]
  },
  {
   "cell_type": "code",
   "execution_count": 104,
   "metadata": {
    "scrolled": false
   },
   "outputs": [
    {
     "name": "stdout",
     "output_type": "stream",
     "text": [
      "Acuracia: 62.13%\n"
     ]
    }
   ],
   "source": [
    "# Vendo a acuracia\n",
    "print(f\"Acuracia: {round(classifier.score(Xtest, ytest)*100,2)}%\")"
   ]
  },
  {
   "cell_type": "code",
   "execution_count": 105,
   "metadata": {},
   "outputs": [
    {
     "data": {
      "text/plain": [
       "local_cia            13.745\n",
       "num_ingr             13.457\n",
       "país_grão            13.291\n",
       "%cacau               11.884\n",
       "1_sabor_doce          7.766\n",
       "manteiga_cacau        5.710\n",
       "1_sabor_arenoso       5.671\n",
       "baunilha              5.321\n",
       "lecitina              4.908\n",
       "1_sabor_gorduroso     4.195\n",
       "1_sabor_complexo      4.093\n",
       "1_sabor_acido         3.690\n",
       "1_sabor_amargo        3.149\n",
       "1_sabor_salgado       3.120\n",
       "dtype: float64"
      ]
     },
     "execution_count": 105,
     "metadata": {},
     "output_type": "execute_result"
    }
   ],
   "source": [
    "importancia = pd.Series(classifier.feature_importances_, index=feature).sort_values(ascending=False).round(5)*100\n",
    "importancia"
   ]
  }
 ],
 "metadata": {
  "kernelspec": {
   "display_name": "Python 3",
   "language": "python",
   "name": "python3"
  },
  "language_info": {
   "codemirror_mode": {
    "name": "ipython",
    "version": 3
   },
   "file_extension": ".py",
   "mimetype": "text/x-python",
   "name": "python",
   "nbconvert_exporter": "python",
   "pygments_lexer": "ipython3",
   "version": "3.8.3"
  }
 },
 "nbformat": 4,
 "nbformat_minor": 4
}
